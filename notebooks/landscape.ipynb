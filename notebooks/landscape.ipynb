{
 "cells": [
  {
   "cell_type": "markdown",
   "source": [
    "# History\n",
    "- 1936: Universal Turing Machine - Computing Machinery and Intelligence - explored AI!\n",
    "- 1946: John von Neumann Universal Computing Machine\n",
    "- 1943: Warren McCulloch & Walter Pitts: cogsci rep of neuron; Frank Rosemblatt uses to create Perceptron (-> neural networks by way of MLP)\n",
    "- 1950s-70s: \"AI\" coined @Dartmouth workshop 1956 - [goal to simulate all aspects of intelligence](http://jmc.stanford.edu/articles/dartmouth/dartmouth.pdf). John McCarthy, Marvin Minksy, Arthur Samuel, Oliver Selfridge, Ray Solomonoff, Allen Newell, Herbert Simon Newell & Simon: Hueristics -> Logic Theories, General Problem Solver\n",
    "  - Slefridge: Computer Vision\n",
    "  - NLP\n",
    "  - Artificial Intelligence Center at SRI International (then Stanford Research Institute) conducted research on a mobile [robot system nicknamed “Shakey.”](http://www.ai.sri.com/shakey/)\n",
    "  - Feigenbaum: Expert systems\n",
    "  - GOFAI / symbolism: operations research / management science; logic-based; knowledge-based / expert systems\n",
    "- 1970s: Lighthill report (James Lighthill) -> [AI Winter paper](http://www.chilton-computing.org.uk/inf/literature/reports/lighthill_report/p001.htm)\n",
    "- 1990s: Yann LeCunn [Object Recognition with Gradient-Based Learning paper](http://yann.lecun.com/exdb/publis/pdf/lecun-99.pdf)\n",
    "- 2006: Geoffrey Hinton et al. publish paper showing how to train a [deep neural network capable of recognizing handwritten digits with >98% confidence paper](https://www.cs.toronto.edu/~hinton/absps/fastnc.pdf)\n",
    "- 2015 Bloomberg, 2015 was whopper for AI in industry\n",
    "  - AlphaGo & DeepMind"
   ],
   "metadata": {
    "collapsed": false
   }
  },
  {
   "cell_type": "markdown",
   "source": [
    "# Definition\n",
    "\n",
    "- \"...the science (and art) of programming computers so they can learn from data\" ~ O'Reilly HOML 2nd Ed.\n",
    "- \"...the field of study that gives computers the ability to learn without being explicity programmed\" ~ Arthur Samuel, 1959"
   ],
   "metadata": {
    "collapsed": false
   }
  },
  {
   "cell_type": "markdown",
   "source": [
    "# Difference Heuristics vs. Machine Learning\n"
   ],
   "metadata": {
    "collapsed": false
   }
  },
  {
   "cell_type": "code",
   "execution_count": null,
   "outputs": [],
   "source": [],
   "metadata": {
    "collapsed": false,
    "pycharm": {
     "name": "#%%\n"
    }
   }
  }
 ],
 "metadata": {
  "kernelspec": {
   "display_name": "Python 3",
   "language": "python",
   "name": "python3"
  },
  "language_info": {
   "codemirror_mode": {
    "name": "ipython",
    "version": 2
   },
   "file_extension": ".py",
   "mimetype": "text/x-python",
   "name": "python",
   "nbconvert_exporter": "python",
   "pygments_lexer": "ipython2",
   "version": "2.7.6"
  }
 },
 "nbformat": 4,
 "nbformat_minor": 0
}